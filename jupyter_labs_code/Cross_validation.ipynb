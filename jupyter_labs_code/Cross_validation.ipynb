{
 "cells": [
  {
   "cell_type": "code",
   "execution_count": 36,
   "metadata": {},
   "outputs": [],
   "source": [
    "import pandas as pd\n",
    "import numpy as np\n",
    "import seaborn as sns\n",
    "import matplotlib.pyplot as plt\n",
    "from sklearn.model_selection import cross_val_score\n",
    "from sklearn.linear_model import LogisticRegression\n",
    "from sklearn.naive_bayes import GaussianNB\n",
    "from sklearn.tree import DecisionTreeClassifier\n",
    "from sklearn.ensemble import RandomForestClassifier\n",
    "from sklearn.svm import SVC\n",
    "from sklearn.neighbors import KNeighborsClassifier\n",
    "from sklearn.linear_model import LogisticRegressionCV\n",
    "sns.set(style='white')"
   ]
  },
  {
   "cell_type": "code",
   "execution_count": 3,
   "metadata": {},
   "outputs": [],
   "source": [
    "train = pd.read_csv(\"final_Home_loan.csv\")\n",
    "y = train.LoanStatus\n",
    "X= train.drop('LoanStatus',axis=1)"
   ]
  },
  {
   "cell_type": "code",
   "execution_count": 7,
   "metadata": {},
   "outputs": [],
   "source": [
    "X = pd.get_dummies(X)"
   ]
  },
  {
   "cell_type": "code",
   "execution_count": 8,
   "metadata": {},
   "outputs": [],
   "source": [
    "all_scores = {}"
   ]
  },
  {
   "cell_type": "code",
   "execution_count": 25,
   "metadata": {},
   "outputs": [
    {
     "name": "stdout",
     "output_type": "stream",
     "text": [
      "[0.81300813 0.77235772 0.7804878  0.85365854 0.81967213]\n",
      "LogisticRegression 80.78368652538984\n"
     ]
    },
    {
     "data": {
      "text/plain": [
       "{'LogisticRegression': 80.78368652538984}"
      ]
     },
     "execution_count": 25,
     "metadata": {},
     "output_type": "execute_result"
    }
   ],
   "source": [
    "clf = LogisticRegression(random_state=3,max_iter=500)\n",
    "\n",
    "scores = cross_val_score(clf,X,y,cv=5)\n",
    "print(scores)\n",
    "print('LogisticRegression',format(scores.mean()*100))\n",
    "all_scores['LogisticRegression'] = (scores.mean() * 100)\n",
    "all_scores"
   ]
  },
  {
   "cell_type": "code",
   "execution_count": 26,
   "metadata": {},
   "outputs": [
    {
     "name": "stdout",
     "output_type": "stream",
     "text": [
      "[0.80487805 0.75609756 0.77235772 0.84552846 0.81147541]\n",
      "GaussianNB 79.80674396907904\n"
     ]
    },
    {
     "data": {
      "text/plain": [
       "{'LogisticRegression': 80.78368652538984, 'GaussianNB': 79.80674396907904}"
      ]
     },
     "execution_count": 26,
     "metadata": {},
     "output_type": "execute_result"
    }
   ],
   "source": [
    "clf = GaussianNB()\n",
    "scores = cross_val_score(clf,X,y,cv=5)\n",
    "print(scores)\n",
    "print('GaussianNB',format(scores.mean()*100))\n",
    "all_scores['GaussianNB'] = (scores.mean() * 100)\n",
    "all_scores"
   ]
  },
  {
   "cell_type": "code",
   "execution_count": 28,
   "metadata": {},
   "outputs": [
    {
     "name": "stdout",
     "output_type": "stream",
     "text": [
      "[0.66666667 0.69105691 0.68292683 0.67479675 0.72131148]\n",
      "DecisionTreeClassifier 68.73517259762761\n"
     ]
    },
    {
     "data": {
      "text/plain": [
       "{'LogisticRegression': 80.78368652538984,\n",
       " 'GaussianNB': 79.80674396907904,\n",
       " 'DecisionTreeClassifier': 68.73517259762761}"
      ]
     },
     "execution_count": 28,
     "metadata": {},
     "output_type": "execute_result"
    }
   ],
   "source": [
    "clf = DecisionTreeClassifier()\n",
    "scores = cross_val_score(clf,X,y,cv=5)\n",
    "print(scores)\n",
    "print('DecisionTreeClassifier',format(scores.mean()*100))\n",
    "all_scores['DecisionTreeClassifier'] = (scores.mean() * 100)\n",
    "all_scores"
   ]
  },
  {
   "cell_type": "code",
   "execution_count": 30,
   "metadata": {},
   "outputs": [
    {
     "name": "stdout",
     "output_type": "stream",
     "text": [
      "[0.78861789 0.72357724 0.7398374  0.79674797 0.81147541]\n",
      "RandomForestClassifier 77.20511795281888\n"
     ]
    },
    {
     "data": {
      "text/plain": [
       "{'LogisticRegression': 80.78368652538984,\n",
       " 'GaussianNB': 79.80674396907904,\n",
       " 'DecisionTreeClassifier': 68.73517259762761,\n",
       " 'RandomForestClassifier': 77.20511795281888}"
      ]
     },
     "execution_count": 30,
     "metadata": {},
     "output_type": "execute_result"
    }
   ],
   "source": [
    "clf = RandomForestClassifier()\n",
    "scores = cross_val_score(clf,X,y,cv=5)\n",
    "print(scores)\n",
    "print('RandomForestClassifier',format(scores.mean()*100))\n",
    "all_scores['RandomForestClassifier'] = (scores.mean() * 100)\n",
    "all_scores"
   ]
  },
  {
   "cell_type": "code",
   "execution_count": 32,
   "metadata": {},
   "outputs": [
    {
     "name": "stdout",
     "output_type": "stream",
     "text": [
      "[0.69105691 0.69105691 0.68292683 0.68292683 0.68852459]\n",
      "SVC 68.72984139677463\n"
     ]
    },
    {
     "data": {
      "text/plain": [
       "{'LogisticRegression': 80.78368652538984,\n",
       " 'GaussianNB': 79.80674396907904,\n",
       " 'DecisionTreeClassifier': 68.73517259762761,\n",
       " 'RandomForestClassifier': 77.20511795281888,\n",
       " 'SVC': 68.72984139677463}"
      ]
     },
     "execution_count": 32,
     "metadata": {},
     "output_type": "execute_result"
    }
   ],
   "source": [
    "clf = SVC()\n",
    "scores = cross_val_score(clf,X,y,cv=5)\n",
    "print(scores)\n",
    "print('SVC',format(scores.mean()*100))\n",
    "all_scores['SVC'] = (scores.mean() * 100)\n",
    "all_scores"
   ]
  },
  {
   "cell_type": "code",
   "execution_count": 34,
   "metadata": {},
   "outputs": [
    {
     "name": "stdout",
     "output_type": "stream",
     "text": [
      "[0.72357724 0.66666667 0.76422764 0.69918699 0.68032787]\n",
      "KNeighborsClassifier 70.67972810875649\n"
     ]
    },
    {
     "data": {
      "text/plain": [
       "{'LogisticRegression': 80.78368652538984,\n",
       " 'GaussianNB': 79.80674396907904,\n",
       " 'DecisionTreeClassifier': 68.73517259762761,\n",
       " 'RandomForestClassifier': 77.20511795281888,\n",
       " 'SVC': 68.72984139677463,\n",
       " 'KNeighborsClassifier': 70.67972810875649}"
      ]
     },
     "execution_count": 34,
     "metadata": {},
     "output_type": "execute_result"
    }
   ],
   "source": [
    "clf = KNeighborsClassifier(n_neighbors=5)\n",
    "scores = cross_val_score(clf,X,y,cv=5)\n",
    "print(scores)\n",
    "print('KNeighborsClassifier',format(scores.mean()*100))\n",
    "all_scores['KNeighborsClassifier'] = (scores.mean() * 100)\n",
    "all_scores"
   ]
  },
  {
   "cell_type": "code",
   "execution_count": 35,
   "metadata": {},
   "outputs": [
    {
     "data": {
      "text/plain": [
       "<AxesSubplot:>"
      ]
     },
     "execution_count": 35,
     "metadata": {},
     "output_type": "execute_result"
    },
    {
     "data": {
      "image/png": "[encoded data removed]",
      "text/plain": [
       "<Figure size 432x288 with 1 Axes>"
      ]
     },
     "metadata": {},
     "output_type": "display_data"
    }
   ],
   "source": [
    "sns.barplot(y=list(all_scores.keys()),x=list(all_scores.values()))"
   ]
  },
  {
   "cell_type": "code",
   "execution_count": 37,
   "metadata": {},
   "outputs": [],
   "source": [
    "clf = LogisticRegressionCV(cv=5,max_iter=500,random_state=3).fit(X,y)"
   ]
  },
  {
   "cell_type": "code",
   "execution_count": 38,
   "metadata": {},
   "outputs": [
    {
     "data": {
      "text/plain": [
       "sklearn.linear_model._logistic.LogisticRegressionCV"
      ]
     },
     "execution_count": 38,
     "metadata": {},
     "output_type": "execute_result"
    }
   ],
   "source": [
    "type(clf)"
   ]
  },
  {
   "cell_type": "code",
   "execution_count": 39,
   "metadata": {},
   "outputs": [
    {
     "data": {
      "text/plain": [
       "0.8094462540716613"
      ]
     },
     "execution_count": 39,
     "metadata": {},
     "output_type": "execute_result"
    }
   ],
   "source": [
    "clf.score(X,y)"
   ]
  },
  {
   "cell_type": "code",
   "execution_count": 40,
   "metadata": {},
   "outputs": [
    {
     "data": {
      "text/plain": [
       "{'LogisticRegression': 80.78368652538984,\n",
       " 'GaussianNB': 79.80674396907904,\n",
       " 'DecisionTreeClassifier': 68.73517259762761,\n",
       " 'RandomForestClassifier': 77.20511795281888,\n",
       " 'SVC': 68.72984139677463,\n",
       " 'KNeighborsClassifier': 70.67972810875649}"
      ]
     },
     "execution_count": 40,
     "metadata": {},
     "output_type": "execute_result"
    }
   ],
   "source": [
    "all_scores"
   ]
  },
  {
   "cell_type": "code",
   "execution_count": null,
   "metadata": {},
   "outputs": [],
   "source": []
  }
 ],
 "metadata": {
  "kernelspec": {
   "display_name": "Python 3",
   "language": "python",
   "name": "python3"
  },
  "language_info": {
   "codemirror_mode": {
    "name": "ipython",
    "version": 3
   },
   "file_extension": ".py",
   "mimetype": "text/x-python",
   "name": "python",
   "nbconvert_exporter": "python",
   "pygments_lexer": "ipython3",
   "version": "3.8.5"
  }
 },
 "nbformat": 4,
 "nbformat_minor": 4
}
