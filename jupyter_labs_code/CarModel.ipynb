{
 "cells": [
  {
   "cell_type": "code",
   "execution_count": 33,
   "metadata": {},
   "outputs": [],
   "source": [
    "import pandas as pd \n",
    "import numpy as np \n",
    "import matplotlib.pyplot as plt\n",
    "import seaborn as sns\n",
    "from sklearn.model_selection import train_test_split\n",
    "from sklearn.linear_model import LinearRegression\n",
    "from sklearn.metrics import mean_squared_error,r2_score,mean_absolute_error\n",
    "from sklearn.ensemble import RandomForestRegressor\n",
    "from sklearn.model_selection import GridSearchCV\n",
    "from sklearn.tree import DecisionTreeRegressor\n",
    "from sklearn.linear_model import SGDRegressor\n",
    "from  sklearn.metrics import r2_score\n",
    "from sklearn.preprocessing import scale\n",
    "from sklearn.linear_model import LassoCV"
   ]
  },
  {
   "cell_type": "code",
   "execution_count": 4,
   "metadata": {},
   "outputs": [],
   "source": [
    "cars = pd.read_csv(\"final_cars.csv\")"
   ]
  },
  {
   "cell_type": "code",
   "execution_count": 5,
   "metadata": {},
   "outputs": [
    {
     "data": {
      "text/plain": [
       "(201, 8)"
      ]
     },
     "execution_count": 5,
     "metadata": {},
     "output_type": "execute_result"
    }
   ],
   "source": [
    "cars.shape"
   ]
  },
  {
   "cell_type": "code",
   "execution_count": 6,
   "metadata": {},
   "outputs": [],
   "source": [
    "cars = pd.get_dummies(cars)\n",
    "y = cars['price']\n",
    "X= cars.drop(columns=['price'])"
   ]
  },
  {
   "cell_type": "code",
   "execution_count": 7,
   "metadata": {},
   "outputs": [
    {
     "data": {
      "text/html": [
       "<div>\n",
       "<style scoped>\n",
       "    .dataframe tbody tr th:only-of-type {\n",
       "        vertical-align: middle;\n",
       "    }\n",
       "\n",
       "    .dataframe tbody tr th {\n",
       "        vertical-align: top;\n",
       "    }\n",
       "\n",
       "    .dataframe thead th {\n",
       "        text-align: right;\n",
       "    }\n",
       "</style>\n",
       "<table border=\"1\" class=\"dataframe\">\n",
       "  <thead>\n",
       "    <tr style=\"text-align: right;\">\n",
       "      <th></th>\n",
       "      <th>engine-size</th>\n",
       "      <th>horsepower</th>\n",
       "      <th>price</th>\n",
       "      <th>avg-mpg</th>\n",
       "      <th>fuel-type_diesel</th>\n",
       "      <th>fuel-type_gas</th>\n",
       "      <th>num-of-doors_four</th>\n",
       "      <th>num-of-doors_two</th>\n",
       "      <th>body-style_convertible</th>\n",
       "      <th>body-style_hardtop</th>\n",
       "      <th>body-style_hatchback</th>\n",
       "      <th>body-style_sedan</th>\n",
       "      <th>body-style_wagon</th>\n",
       "      <th>drive-wheels_4wd</th>\n",
       "      <th>drive-wheels_fwd</th>\n",
       "      <th>drive-wheels_rwd</th>\n",
       "    </tr>\n",
       "  </thead>\n",
       "  <tbody>\n",
       "    <tr>\n",
       "      <th>0</th>\n",
       "      <td>130</td>\n",
       "      <td>111.0</td>\n",
       "      <td>13495.0</td>\n",
       "      <td>34.5</td>\n",
       "      <td>0</td>\n",
       "      <td>1</td>\n",
       "      <td>0</td>\n",
       "      <td>1</td>\n",
       "      <td>1</td>\n",
       "      <td>0</td>\n",
       "      <td>0</td>\n",
       "      <td>0</td>\n",
       "      <td>0</td>\n",
       "      <td>0</td>\n",
       "      <td>0</td>\n",
       "      <td>1</td>\n",
       "    </tr>\n",
       "    <tr>\n",
       "      <th>1</th>\n",
       "      <td>130</td>\n",
       "      <td>111.0</td>\n",
       "      <td>16500.0</td>\n",
       "      <td>34.5</td>\n",
       "      <td>0</td>\n",
       "      <td>1</td>\n",
       "      <td>0</td>\n",
       "      <td>1</td>\n",
       "      <td>1</td>\n",
       "      <td>0</td>\n",
       "      <td>0</td>\n",
       "      <td>0</td>\n",
       "      <td>0</td>\n",
       "      <td>0</td>\n",
       "      <td>0</td>\n",
       "      <td>1</td>\n",
       "    </tr>\n",
       "    <tr>\n",
       "      <th>2</th>\n",
       "      <td>152</td>\n",
       "      <td>154.0</td>\n",
       "      <td>16500.0</td>\n",
       "      <td>32.0</td>\n",
       "      <td>0</td>\n",
       "      <td>1</td>\n",
       "      <td>0</td>\n",
       "      <td>1</td>\n",
       "      <td>0</td>\n",
       "      <td>0</td>\n",
       "      <td>1</td>\n",
       "      <td>0</td>\n",
       "      <td>0</td>\n",
       "      <td>0</td>\n",
       "      <td>0</td>\n",
       "      <td>1</td>\n",
       "    </tr>\n",
       "    <tr>\n",
       "      <th>3</th>\n",
       "      <td>109</td>\n",
       "      <td>102.0</td>\n",
       "      <td>13950.0</td>\n",
       "      <td>39.0</td>\n",
       "      <td>0</td>\n",
       "      <td>1</td>\n",
       "      <td>1</td>\n",
       "      <td>0</td>\n",
       "      <td>0</td>\n",
       "      <td>0</td>\n",
       "      <td>0</td>\n",
       "      <td>1</td>\n",
       "      <td>0</td>\n",
       "      <td>0</td>\n",
       "      <td>1</td>\n",
       "      <td>0</td>\n",
       "    </tr>\n",
       "    <tr>\n",
       "      <th>4</th>\n",
       "      <td>136</td>\n",
       "      <td>115.0</td>\n",
       "      <td>17450.0</td>\n",
       "      <td>29.0</td>\n",
       "      <td>0</td>\n",
       "      <td>1</td>\n",
       "      <td>1</td>\n",
       "      <td>0</td>\n",
       "      <td>0</td>\n",
       "      <td>0</td>\n",
       "      <td>0</td>\n",
       "      <td>1</td>\n",
       "      <td>0</td>\n",
       "      <td>1</td>\n",
       "      <td>0</td>\n",
       "      <td>0</td>\n",
       "    </tr>\n",
       "    <tr>\n",
       "      <th>...</th>\n",
       "      <td>...</td>\n",
       "      <td>...</td>\n",
       "      <td>...</td>\n",
       "      <td>...</td>\n",
       "      <td>...</td>\n",
       "      <td>...</td>\n",
       "      <td>...</td>\n",
       "      <td>...</td>\n",
       "      <td>...</td>\n",
       "      <td>...</td>\n",
       "      <td>...</td>\n",
       "      <td>...</td>\n",
       "      <td>...</td>\n",
       "      <td>...</td>\n",
       "      <td>...</td>\n",
       "      <td>...</td>\n",
       "    </tr>\n",
       "    <tr>\n",
       "      <th>196</th>\n",
       "      <td>141</td>\n",
       "      <td>114.0</td>\n",
       "      <td>16845.0</td>\n",
       "      <td>37.0</td>\n",
       "      <td>0</td>\n",
       "      <td>1</td>\n",
       "      <td>1</td>\n",
       "      <td>0</td>\n",
       "      <td>0</td>\n",
       "      <td>0</td>\n",
       "      <td>0</td>\n",
       "      <td>1</td>\n",
       "      <td>0</td>\n",
       "      <td>0</td>\n",
       "      <td>0</td>\n",
       "      <td>1</td>\n",
       "    </tr>\n",
       "    <tr>\n",
       "      <th>197</th>\n",
       "      <td>141</td>\n",
       "      <td>160.0</td>\n",
       "      <td>19045.0</td>\n",
       "      <td>31.5</td>\n",
       "      <td>0</td>\n",
       "      <td>1</td>\n",
       "      <td>1</td>\n",
       "      <td>0</td>\n",
       "      <td>0</td>\n",
       "      <td>0</td>\n",
       "      <td>0</td>\n",
       "      <td>1</td>\n",
       "      <td>0</td>\n",
       "      <td>0</td>\n",
       "      <td>0</td>\n",
       "      <td>1</td>\n",
       "    </tr>\n",
       "    <tr>\n",
       "      <th>198</th>\n",
       "      <td>173</td>\n",
       "      <td>134.0</td>\n",
       "      <td>21485.0</td>\n",
       "      <td>29.5</td>\n",
       "      <td>0</td>\n",
       "      <td>1</td>\n",
       "      <td>1</td>\n",
       "      <td>0</td>\n",
       "      <td>0</td>\n",
       "      <td>0</td>\n",
       "      <td>0</td>\n",
       "      <td>1</td>\n",
       "      <td>0</td>\n",
       "      <td>0</td>\n",
       "      <td>0</td>\n",
       "      <td>1</td>\n",
       "    </tr>\n",
       "    <tr>\n",
       "      <th>199</th>\n",
       "      <td>145</td>\n",
       "      <td>106.0</td>\n",
       "      <td>22470.0</td>\n",
       "      <td>39.5</td>\n",
       "      <td>1</td>\n",
       "      <td>0</td>\n",
       "      <td>1</td>\n",
       "      <td>0</td>\n",
       "      <td>0</td>\n",
       "      <td>0</td>\n",
       "      <td>0</td>\n",
       "      <td>1</td>\n",
       "      <td>0</td>\n",
       "      <td>0</td>\n",
       "      <td>0</td>\n",
       "      <td>1</td>\n",
       "    </tr>\n",
       "    <tr>\n",
       "      <th>200</th>\n",
       "      <td>141</td>\n",
       "      <td>114.0</td>\n",
       "      <td>22625.0</td>\n",
       "      <td>31.5</td>\n",
       "      <td>0</td>\n",
       "      <td>1</td>\n",
       "      <td>1</td>\n",
       "      <td>0</td>\n",
       "      <td>0</td>\n",
       "      <td>0</td>\n",
       "      <td>0</td>\n",
       "      <td>1</td>\n",
       "      <td>0</td>\n",
       "      <td>0</td>\n",
       "      <td>0</td>\n",
       "      <td>1</td>\n",
       "    </tr>\n",
       "  </tbody>\n",
       "</table>\n",
       "<p>201 rows × 16 columns</p>\n",
       "</div>"
      ],
      "text/plain": [
       "     engine-size  horsepower    price  avg-mpg  fuel-type_diesel  \\\n",
       "0            130       111.0  13495.0     34.5                 0   \n",
       "1            130       111.0  16500.0     34.5                 0   \n",
       "2            152       154.0  16500.0     32.0                 0   \n",
       "3            109       102.0  13950.0     39.0                 0   \n",
       "4            136       115.0  17450.0     29.0                 0   \n",
       "..           ...         ...      ...      ...               ...   \n",
       "196          141       114.0  16845.0     37.0                 0   \n",
       "197          141       160.0  19045.0     31.5                 0   \n",
       "198          173       134.0  21485.0     29.5                 0   \n",
       "199          145       106.0  22470.0     39.5                 1   \n",
       "200          141       114.0  22625.0     31.5                 0   \n",
       "\n",
       "     fuel-type_gas  num-of-doors_four  num-of-doors_two  \\\n",
       "0                1                  0                 1   \n",
       "1                1                  0                 1   \n",
       "2                1                  0                 1   \n",
       "3                1                  1                 0   \n",
       "4                1                  1                 0   \n",
       "..             ...                ...               ...   \n",
       "196              1                  1                 0   \n",
       "197              1                  1                 0   \n",
       "198              1                  1                 0   \n",
       "199              0                  1                 0   \n",
       "200              1                  1                 0   \n",
       "\n",
       "     body-style_convertible  body-style_hardtop  body-style_hatchback  \\\n",
       "0                         1                   0                     0   \n",
       "1                         1                   0                     0   \n",
       "2                         0                   0                     1   \n",
       "3                         0                   0                     0   \n",
       "4                         0                   0                     0   \n",
       "..                      ...                 ...                   ...   \n",
       "196                       0                   0                     0   \n",
       "197                       0                   0                     0   \n",
       "198                       0                   0                     0   \n",
       "199                       0                   0                     0   \n",
       "200                       0                   0                     0   \n",
       "\n",
       "     body-style_sedan  body-style_wagon  drive-wheels_4wd  drive-wheels_fwd  \\\n",
       "0                   0                 0                 0                 0   \n",
       "1                   0                 0                 0                 0   \n",
       "2                   0                 0                 0                 0   \n",
       "3                   1                 0                 0                 1   \n",
       "4                   1                 0                 1                 0   \n",
       "..                ...               ...               ...               ...   \n",
       "196                 1                 0                 0                 0   \n",
       "197                 1                 0                 0                 0   \n",
       "198                 1                 0                 0                 0   \n",
       "199                 1                 0                 0                 0   \n",
       "200                 1                 0                 0                 0   \n",
       "\n",
       "     drive-wheels_rwd  \n",
       "0                   1  \n",
       "1                   1  \n",
       "2                   1  \n",
       "3                   0  \n",
       "4                   0  \n",
       "..                ...  \n",
       "196                 1  \n",
       "197                 1  \n",
       "198                 1  \n",
       "199                 1  \n",
       "200                 1  \n",
       "\n",
       "[201 rows x 16 columns]"
      ]
     },
     "execution_count": 7,
     "metadata": {},
     "output_type": "execute_result"
    }
   ],
   "source": [
    "cars"
   ]
  },
  {
   "cell_type": "code",
   "execution_count": 8,
   "metadata": {},
   "outputs": [],
   "source": [
    "X_train,X_test,y_train,y_test = train_test_split(X,y,test_size=0.2,random_state=3)"
   ]
  },
  {
   "cell_type": "code",
   "execution_count": 9,
   "metadata": {},
   "outputs": [],
   "source": [
    "model = LinearRegression(normalize=True)"
   ]
  },
  {
   "cell_type": "code",
   "execution_count": 10,
   "metadata": {},
   "outputs": [
    {
     "data": {
      "text/plain": [
       "LinearRegression(normalize=True)"
      ]
     },
     "execution_count": 10,
     "metadata": {},
     "output_type": "execute_result"
    }
   ],
   "source": [
    "model.fit(X_train,y_train)"
   ]
  },
  {
   "cell_type": "code",
   "execution_count": 11,
   "metadata": {},
   "outputs": [
    {
     "name": "stdout",
     "output_type": "stream",
     "text": [
      "engine-size         --  100.4960765977554\n",
      "horsepower          --  54.55120036197133\n",
      "avg-mpg             --  -56.63431928793346\n",
      "fuel-type_diesel    --  1028.3239920015385\n",
      "fuel-type_gas       --  -1028.3239920015394\n",
      "num-of-doors_four   --  -69.74519306875895\n",
      "num-of-doors_two    --  69.74519306875898\n",
      "body-style_convertible--  1315.3817219679063\n",
      "body-style_hardtop  --  1457.7445498434158\n",
      "body-style_hatchback--  -919.3465095897586\n",
      "body-style_sedan    --  765.2001442922676\n",
      "body-style_wagon    --  -523.2560452222709\n",
      "drive-wheels_4wd    --  -596.1734974897528\n",
      "drive-wheels_fwd    --  -1102.6328852600348\n",
      "drive-wheels_rwd    --  1211.798754505879\n"
     ]
    }
   ],
   "source": [
    "for t in zip(X_train.columns,model.coef_):\n",
    "    print(f\"{t[0]:20s}--  {t[1]}\")"
   ]
  },
  {
   "cell_type": "code",
   "execution_count": 12,
   "metadata": {},
   "outputs": [],
   "source": [
    "y_pred = model.predict(X_train)"
   ]
  },
  {
   "cell_type": "code",
   "execution_count": 13,
   "metadata": {},
   "outputs": [
    {
     "name": "stdout",
     "output_type": "stream",
     "text": [
      "Traning 3148.888971529906\n",
      "Tranning R2 Score = 0.83\n"
     ]
    }
   ],
   "source": [
    "print(\"Traning\",np.sqrt(mean_squared_error(y_train,y_pred)))\n",
    "r2score = r2_score(y_train,y_pred)\n",
    "print(f\"Tranning R2 Score = {r2score:0.2f}\")"
   ]
  },
  {
   "cell_type": "code",
   "execution_count": 14,
   "metadata": {},
   "outputs": [],
   "source": [
    "y_pred = model.predict(X_test)"
   ]
  },
  {
   "cell_type": "code",
   "execution_count": 15,
   "metadata": {},
   "outputs": [
    {
     "name": "stdout",
     "output_type": "stream",
     "text": [
      "Testing 3747.1458044339965\n",
      "Testing R2 Score = 0.83\n"
     ]
    }
   ],
   "source": [
    "print(\"Testing\",np.sqrt(mean_squared_error(y_test,y_pred)))\n",
    "r2score = r2_score(y_test,y_pred)\n",
    "print(f\"Testing R2 Score = {r2score:0.2f}\")"
   ]
  },
  {
   "cell_type": "code",
   "execution_count": 16,
   "metadata": {},
   "outputs": [
    {
     "data": {
      "text/plain": [
       "<AxesSubplot:ylabel='price'>"
      ]
     },
     "execution_count": 16,
     "metadata": {},
     "output_type": "execute_result"
    },
    {
     "data": {
      "image/png": "[encoded data removed]",
      "text/plain": [
       "<Figure size 1440x720 with 1 Axes>"
      ]
     },
     "metadata": {
      "needs_background": "light"
     },
     "output_type": "display_data"
    }
   ],
   "source": [
    "plt.gcf().set_size_inches(20,10)\n",
    "sns.lineplot( y = y_test,x = X_test.index,label=\"Actual\")\n",
    "sns.lineplot( y = y_pred,x = X_test.index,label=\"Predicated\")"
   ]
  },
  {
   "cell_type": "code",
   "execution_count": 17,
   "metadata": {},
   "outputs": [
    {
     "name": "stdout",
     "output_type": "stream",
     "text": [
      "11168.32 -  12945.00\n",
      "6779.09 -  7395.00\n",
      "10522.26 -  9233.00\n",
      "14287.04 -  18150.00\n",
      "9915.59 -  9988.00\n",
      "11495.20 -  6989.00\n",
      "5992.07 -  7198.00\n",
      "45046.60 -  36000.00\n",
      "38814.87 -  40960.00\n",
      "21453.77 -  13499.00\n",
      "6166.72 -  8778.00\n",
      "11495.20 -  8189.00\n",
      "6678.59 -  7609.00\n",
      "10358.93 -  9960.00\n",
      "8587.58 -  8238.00\n",
      "21680.83 -  16558.00\n",
      "8296.97 -  8249.00\n",
      "11065.74 -  13950.00\n",
      "11111.67 -  10345.00\n",
      "9675.30 -  10595.00\n",
      "28473.48 -  30760.00\n",
      "28877.91 -  37028.00\n",
      "20170.46 -  21105.00\n",
      "14640.30 -  17710.00\n",
      "9155.42 -  10198.00\n",
      "11190.22 -  9538.00\n",
      "22953.13 -  15690.00\n",
      "18694.27 -  9639.00\n",
      "22659.56 -  17199.00\n",
      "7604.42 -  5499.00\n",
      "24273.96 -  25552.00\n",
      "5488.89 -  5195.00\n",
      "10272.12 -  8058.00\n",
      "7485.90 -  7295.00\n",
      "10038.56 -  8845.00\n",
      "11129.11 -  11595.00\n",
      "15561.10 -  17450.00\n",
      "19385.80 -  16503.00\n",
      "24273.96 -  31600.00\n",
      "4752.37 -  5348.00\n",
      "11389.58 -  11850.00\n"
     ]
    }
   ],
   "source": [
    "for p,a in zip(y_pred,y_test):\n",
    "    print(f\"{p:.2f} -  {a:.2f}\")"
   ]
  },
  {
   "cell_type": "code",
   "execution_count": 18,
   "metadata": {},
   "outputs": [
    {
     "data": {
      "text/plain": [
       "RandomForestRegressor(max_depth=5)"
      ]
     },
     "execution_count": 18,
     "metadata": {},
     "output_type": "execute_result"
    }
   ],
   "source": [
    "modelRandom = RandomForestRegressor(max_depth=5)\n",
    "modelRandom.fit(X_train,y_train)"
   ]
  },
  {
   "cell_type": "code",
   "execution_count": 19,
   "metadata": {},
   "outputs": [
    {
     "name": "stdout",
     "output_type": "stream",
     "text": [
      "Train_score  0.8275597985657044\n",
      "Testing R2 Score = 0.94\n",
      "Testing 2238.513687213515\n"
     ]
    }
   ],
   "source": [
    "print(\"Train_score \", model.score(X_train,y_train))\n",
    "y_pred = modelRandom.predict(X_test)\n",
    "r2score = r2_score(y_test,y_pred)\n",
    "print(f\"Testing R2 Score = {r2score:0.2f}\")\n",
    "print(\"Testing\",np.sqrt(mean_squared_error(y_test,y_pred)))"
   ]
  },
  {
   "cell_type": "code",
   "execution_count": 20,
   "metadata": {},
   "outputs": [
    {
     "data": {
      "text/plain": [
       "<AxesSubplot:ylabel='price'>"
      ]
     },
     "execution_count": 20,
     "metadata": {},
     "output_type": "execute_result"
    },
    {
     "data": {
      "image/png": "[encoded data removed]",
      "text/plain": [
       "<Figure size 1440x720 with 1 Axes>"
      ]
     },
     "metadata": {
      "needs_background": "light"
     },
     "output_type": "display_data"
    }
   ],
   "source": [
    "plt.gcf().set_size_inches(20,10)\n",
    "sns.lineplot( y = y_test,x = X_test.index,label=\"Actual\")\n",
    "sns.lineplot( y = y_pred,x = X_test.index,label=\"Predicated\")"
   ]
  },
  {
   "cell_type": "code",
   "execution_count": 21,
   "metadata": {},
   "outputs": [
    {
     "name": "stdout",
     "output_type": "stream",
     "text": [
      "10638.72 -  12945.00\n",
      "6696.46 -  7395.00\n",
      "10805.91 -  9233.00\n",
      "16308.99 -  18150.00\n",
      "9819.64 -  9988.00\n",
      "9631.60 -  6989.00\n",
      "7521.25 -  7198.00\n",
      "42190.24 -  36000.00\n",
      "41414.14 -  40960.00\n",
      "16546.75 -  13499.00\n",
      "7186.00 -  8778.00\n",
      "9631.60 -  8189.00\n",
      "6686.00 -  7609.00\n",
      "9209.13 -  9960.00\n",
      "8047.46 -  8238.00\n",
      "17705.87 -  16558.00\n",
      "7548.58 -  8249.00\n",
      "9632.20 -  13950.00\n",
      "9664.00 -  10345.00\n",
      "9407.38 -  10595.00\n",
      "37585.34 -  30760.00\n",
      "34723.77 -  37028.00\n",
      "20211.86 -  21105.00\n",
      "15737.72 -  17710.00\n",
      "9212.68 -  10198.00\n",
      "9604.14 -  9538.00\n",
      "19052.82 -  15690.00\n",
      "11263.09 -  9639.00\n",
      "17840.09 -  17199.00\n",
      "7556.24 -  5499.00\n",
      "28263.54 -  25552.00\n",
      "6829.78 -  5195.00\n",
      "8284.50 -  8058.00\n",
      "6830.60 -  7295.00\n",
      "9194.09 -  8845.00\n",
      "9568.81 -  11595.00\n",
      "16787.19 -  17450.00\n",
      "16865.71 -  16503.00\n",
      "28263.54 -  31600.00\n",
      "6219.34 -  5348.00\n",
      "14556.75 -  11850.00\n"
     ]
    }
   ],
   "source": [
    "for p,a in zip(y_pred,y_test):\n",
    "    print(f\"{p:.2f} -  {a:.2f}\")"
   ]
  },
  {
   "cell_type": "markdown",
   "metadata": {},
   "source": [
    "# Hyper parameter"
   ]
  },
  {
   "cell_type": "code",
   "execution_count": 22,
   "metadata": {},
   "outputs": [],
   "source": [
    "hyper_parameter = {'max_depth': [2,4,6,8],\n",
    "                  'min_samples_leaf': [5,10,15]}"
   ]
  },
  {
   "cell_type": "code",
   "execution_count": 23,
   "metadata": {},
   "outputs": [],
   "source": [
    "grid_search = GridSearchCV(DecisionTreeRegressor(),hyper_parameter)"
   ]
  },
  {
   "cell_type": "code",
   "execution_count": 24,
   "metadata": {},
   "outputs": [
    {
     "data": {
      "text/plain": [
       "GridSearchCV(estimator=DecisionTreeRegressor(),\n",
       "             param_grid={'max_depth': [2, 4, 6, 8],\n",
       "                         'min_samples_leaf': [5, 10, 15]})"
      ]
     },
     "execution_count": 24,
     "metadata": {},
     "output_type": "execute_result"
    }
   ],
   "source": [
    "grid_search.fit(X_train,y_train)"
   ]
  },
  {
   "cell_type": "code",
   "execution_count": 25,
   "metadata": {},
   "outputs": [
    {
     "data": {
      "text/plain": [
       "{'max_depth': 6, 'min_samples_leaf': 5}"
      ]
     },
     "execution_count": 25,
     "metadata": {},
     "output_type": "execute_result"
    }
   ],
   "source": [
    "grid_search.best_params_"
   ]
  },
  {
   "cell_type": "markdown",
   "metadata": {},
   "source": [
    "# Gradient descent"
   ]
  },
  {
   "cell_type": "code",
   "execution_count": 26,
   "metadata": {},
   "outputs": [
    {
     "data": {
      "text/html": [
       "<div>\n",
       "<style scoped>\n",
       "    .dataframe tbody tr th:only-of-type {\n",
       "        vertical-align: middle;\n",
       "    }\n",
       "\n",
       "    .dataframe tbody tr th {\n",
       "        vertical-align: top;\n",
       "    }\n",
       "\n",
       "    .dataframe thead th {\n",
       "        text-align: right;\n",
       "    }\n",
       "</style>\n",
       "<table border=\"1\" class=\"dataframe\">\n",
       "  <thead>\n",
       "    <tr style=\"text-align: right;\">\n",
       "      <th></th>\n",
       "      <th>engine-size</th>\n",
       "      <th>horsepower</th>\n",
       "      <th>avg-mpg</th>\n",
       "      <th>fuel-type_diesel</th>\n",
       "      <th>fuel-type_gas</th>\n",
       "      <th>num-of-doors_four</th>\n",
       "      <th>num-of-doors_two</th>\n",
       "      <th>body-style_convertible</th>\n",
       "      <th>body-style_hardtop</th>\n",
       "      <th>body-style_hatchback</th>\n",
       "      <th>body-style_sedan</th>\n",
       "      <th>body-style_wagon</th>\n",
       "      <th>drive-wheels_4wd</th>\n",
       "      <th>drive-wheels_fwd</th>\n",
       "      <th>drive-wheels_rwd</th>\n",
       "    </tr>\n",
       "  </thead>\n",
       "  <tbody>\n",
       "    <tr>\n",
       "      <th>0</th>\n",
       "      <td>130</td>\n",
       "      <td>111.0</td>\n",
       "      <td>34.5</td>\n",
       "      <td>0</td>\n",
       "      <td>1</td>\n",
       "      <td>0</td>\n",
       "      <td>1</td>\n",
       "      <td>1</td>\n",
       "      <td>0</td>\n",
       "      <td>0</td>\n",
       "      <td>0</td>\n",
       "      <td>0</td>\n",
       "      <td>0</td>\n",
       "      <td>0</td>\n",
       "      <td>1</td>\n",
       "    </tr>\n",
       "    <tr>\n",
       "      <th>1</th>\n",
       "      <td>130</td>\n",
       "      <td>111.0</td>\n",
       "      <td>34.5</td>\n",
       "      <td>0</td>\n",
       "      <td>1</td>\n",
       "      <td>0</td>\n",
       "      <td>1</td>\n",
       "      <td>1</td>\n",
       "      <td>0</td>\n",
       "      <td>0</td>\n",
       "      <td>0</td>\n",
       "      <td>0</td>\n",
       "      <td>0</td>\n",
       "      <td>0</td>\n",
       "      <td>1</td>\n",
       "    </tr>\n",
       "    <tr>\n",
       "      <th>2</th>\n",
       "      <td>152</td>\n",
       "      <td>154.0</td>\n",
       "      <td>32.0</td>\n",
       "      <td>0</td>\n",
       "      <td>1</td>\n",
       "      <td>0</td>\n",
       "      <td>1</td>\n",
       "      <td>0</td>\n",
       "      <td>0</td>\n",
       "      <td>1</td>\n",
       "      <td>0</td>\n",
       "      <td>0</td>\n",
       "      <td>0</td>\n",
       "      <td>0</td>\n",
       "      <td>1</td>\n",
       "    </tr>\n",
       "    <tr>\n",
       "      <th>3</th>\n",
       "      <td>109</td>\n",
       "      <td>102.0</td>\n",
       "      <td>39.0</td>\n",
       "      <td>0</td>\n",
       "      <td>1</td>\n",
       "      <td>1</td>\n",
       "      <td>0</td>\n",
       "      <td>0</td>\n",
       "      <td>0</td>\n",
       "      <td>0</td>\n",
       "      <td>1</td>\n",
       "      <td>0</td>\n",
       "      <td>0</td>\n",
       "      <td>1</td>\n",
       "      <td>0</td>\n",
       "    </tr>\n",
       "    <tr>\n",
       "      <th>4</th>\n",
       "      <td>136</td>\n",
       "      <td>115.0</td>\n",
       "      <td>29.0</td>\n",
       "      <td>0</td>\n",
       "      <td>1</td>\n",
       "      <td>1</td>\n",
       "      <td>0</td>\n",
       "      <td>0</td>\n",
       "      <td>0</td>\n",
       "      <td>0</td>\n",
       "      <td>1</td>\n",
       "      <td>0</td>\n",
       "      <td>1</td>\n",
       "      <td>0</td>\n",
       "      <td>0</td>\n",
       "    </tr>\n",
       "    <tr>\n",
       "      <th>...</th>\n",
       "      <td>...</td>\n",
       "      <td>...</td>\n",
       "      <td>...</td>\n",
       "      <td>...</td>\n",
       "      <td>...</td>\n",
       "      <td>...</td>\n",
       "      <td>...</td>\n",
       "      <td>...</td>\n",
       "      <td>...</td>\n",
       "      <td>...</td>\n",
       "      <td>...</td>\n",
       "      <td>...</td>\n",
       "      <td>...</td>\n",
       "      <td>...</td>\n",
       "      <td>...</td>\n",
       "    </tr>\n",
       "    <tr>\n",
       "      <th>196</th>\n",
       "      <td>141</td>\n",
       "      <td>114.0</td>\n",
       "      <td>37.0</td>\n",
       "      <td>0</td>\n",
       "      <td>1</td>\n",
       "      <td>1</td>\n",
       "      <td>0</td>\n",
       "      <td>0</td>\n",
       "      <td>0</td>\n",
       "      <td>0</td>\n",
       "      <td>1</td>\n",
       "      <td>0</td>\n",
       "      <td>0</td>\n",
       "      <td>0</td>\n",
       "      <td>1</td>\n",
       "    </tr>\n",
       "    <tr>\n",
       "      <th>197</th>\n",
       "      <td>141</td>\n",
       "      <td>160.0</td>\n",
       "      <td>31.5</td>\n",
       "      <td>0</td>\n",
       "      <td>1</td>\n",
       "      <td>1</td>\n",
       "      <td>0</td>\n",
       "      <td>0</td>\n",
       "      <td>0</td>\n",
       "      <td>0</td>\n",
       "      <td>1</td>\n",
       "      <td>0</td>\n",
       "      <td>0</td>\n",
       "      <td>0</td>\n",
       "      <td>1</td>\n",
       "    </tr>\n",
       "    <tr>\n",
       "      <th>198</th>\n",
       "      <td>173</td>\n",
       "      <td>134.0</td>\n",
       "      <td>29.5</td>\n",
       "      <td>0</td>\n",
       "      <td>1</td>\n",
       "      <td>1</td>\n",
       "      <td>0</td>\n",
       "      <td>0</td>\n",
       "      <td>0</td>\n",
       "      <td>0</td>\n",
       "      <td>1</td>\n",
       "      <td>0</td>\n",
       "      <td>0</td>\n",
       "      <td>0</td>\n",
       "      <td>1</td>\n",
       "    </tr>\n",
       "    <tr>\n",
       "      <th>199</th>\n",
       "      <td>145</td>\n",
       "      <td>106.0</td>\n",
       "      <td>39.5</td>\n",
       "      <td>1</td>\n",
       "      <td>0</td>\n",
       "      <td>1</td>\n",
       "      <td>0</td>\n",
       "      <td>0</td>\n",
       "      <td>0</td>\n",
       "      <td>0</td>\n",
       "      <td>1</td>\n",
       "      <td>0</td>\n",
       "      <td>0</td>\n",
       "      <td>0</td>\n",
       "      <td>1</td>\n",
       "    </tr>\n",
       "    <tr>\n",
       "      <th>200</th>\n",
       "      <td>141</td>\n",
       "      <td>114.0</td>\n",
       "      <td>31.5</td>\n",
       "      <td>0</td>\n",
       "      <td>1</td>\n",
       "      <td>1</td>\n",
       "      <td>0</td>\n",
       "      <td>0</td>\n",
       "      <td>0</td>\n",
       "      <td>0</td>\n",
       "      <td>1</td>\n",
       "      <td>0</td>\n",
       "      <td>0</td>\n",
       "      <td>0</td>\n",
       "      <td>1</td>\n",
       "    </tr>\n",
       "  </tbody>\n",
       "</table>\n",
       "<p>201 rows × 15 columns</p>\n",
       "</div>"
      ],
      "text/plain": [
       "     engine-size  horsepower  avg-mpg  fuel-type_diesel  fuel-type_gas  \\\n",
       "0            130       111.0     34.5                 0              1   \n",
       "1            130       111.0     34.5                 0              1   \n",
       "2            152       154.0     32.0                 0              1   \n",
       "3            109       102.0     39.0                 0              1   \n",
       "4            136       115.0     29.0                 0              1   \n",
       "..           ...         ...      ...               ...            ...   \n",
       "196          141       114.0     37.0                 0              1   \n",
       "197          141       160.0     31.5                 0              1   \n",
       "198          173       134.0     29.5                 0              1   \n",
       "199          145       106.0     39.5                 1              0   \n",
       "200          141       114.0     31.5                 0              1   \n",
       "\n",
       "     num-of-doors_four  num-of-doors_two  body-style_convertible  \\\n",
       "0                    0                 1                       1   \n",
       "1                    0                 1                       1   \n",
       "2                    0                 1                       0   \n",
       "3                    1                 0                       0   \n",
       "4                    1                 0                       0   \n",
       "..                 ...               ...                     ...   \n",
       "196                  1                 0                       0   \n",
       "197                  1                 0                       0   \n",
       "198                  1                 0                       0   \n",
       "199                  1                 0                       0   \n",
       "200                  1                 0                       0   \n",
       "\n",
       "     body-style_hardtop  body-style_hatchback  body-style_sedan  \\\n",
       "0                     0                     0                 0   \n",
       "1                     0                     0                 0   \n",
       "2                     0                     1                 0   \n",
       "3                     0                     0                 1   \n",
       "4                     0                     0                 1   \n",
       "..                  ...                   ...               ...   \n",
       "196                   0                     0                 1   \n",
       "197                   0                     0                 1   \n",
       "198                   0                     0                 1   \n",
       "199                   0                     0                 1   \n",
       "200                   0                     0                 1   \n",
       "\n",
       "     body-style_wagon  drive-wheels_4wd  drive-wheels_fwd  drive-wheels_rwd  \n",
       "0                   0                 0                 0                 1  \n",
       "1                   0                 0                 0                 1  \n",
       "2                   0                 0                 0                 1  \n",
       "3                   0                 0                 1                 0  \n",
       "4                   0                 1                 0                 0  \n",
       "..                ...               ...               ...               ...  \n",
       "196                 0                 0                 0                 1  \n",
       "197                 0                 0                 0                 1  \n",
       "198                 0                 0                 0                 1  \n",
       "199                 0                 0                 0                 1  \n",
       "200                 0                 0                 0                 1  \n",
       "\n",
       "[201 rows x 15 columns]"
      ]
     },
     "execution_count": 26,
     "metadata": {},
     "output_type": "execute_result"
    }
   ],
   "source": [
    "y = cars['price']\n",
    "X = cars.drop(columns=['price'])\n",
    "X"
   ]
  },
  {
   "cell_type": "code",
   "execution_count": 27,
   "metadata": {},
   "outputs": [],
   "source": [
    "X['engine-size'] = scale(X['engine-size'])\n",
    "X['horsepower'] = scale(X['horsepower'])\n",
    "X['avg-mpg'] = scale(X['avg-mpg'])"
   ]
  },
  {
   "cell_type": "code",
   "execution_count": 28,
   "metadata": {},
   "outputs": [
    {
     "data": {
      "text/html": [
       "<div>\n",
       "<style scoped>\n",
       "    .dataframe tbody tr th:only-of-type {\n",
       "        vertical-align: middle;\n",
       "    }\n",
       "\n",
       "    .dataframe tbody tr th {\n",
       "        vertical-align: top;\n",
       "    }\n",
       "\n",
       "    .dataframe thead th {\n",
       "        text-align: right;\n",
       "    }\n",
       "</style>\n",
       "<table border=\"1\" class=\"dataframe\">\n",
       "  <thead>\n",
       "    <tr style=\"text-align: right;\">\n",
       "      <th></th>\n",
       "      <th>engine-size</th>\n",
       "      <th>horsepower</th>\n",
       "      <th>avg-mpg</th>\n",
       "      <th>fuel-type_diesel</th>\n",
       "      <th>fuel-type_gas</th>\n",
       "      <th>num-of-doors_four</th>\n",
       "      <th>num-of-doors_two</th>\n",
       "      <th>body-style_convertible</th>\n",
       "      <th>body-style_hardtop</th>\n",
       "      <th>body-style_hatchback</th>\n",
       "      <th>body-style_sedan</th>\n",
       "      <th>body-style_wagon</th>\n",
       "      <th>drive-wheels_4wd</th>\n",
       "      <th>drive-wheels_fwd</th>\n",
       "      <th>drive-wheels_rwd</th>\n",
       "    </tr>\n",
       "  </thead>\n",
       "  <tbody>\n",
       "    <tr>\n",
       "      <th>0</th>\n",
       "      <td>0.075389</td>\n",
       "      <td>0.206174</td>\n",
       "      <td>-0.618060</td>\n",
       "      <td>0</td>\n",
       "      <td>1</td>\n",
       "      <td>0</td>\n",
       "      <td>1</td>\n",
       "      <td>1</td>\n",
       "      <td>0</td>\n",
       "      <td>0</td>\n",
       "      <td>0</td>\n",
       "      <td>0</td>\n",
       "      <td>0</td>\n",
       "      <td>0</td>\n",
       "      <td>1</td>\n",
       "    </tr>\n",
       "    <tr>\n",
       "      <th>1</th>\n",
       "      <td>0.075389</td>\n",
       "      <td>0.206174</td>\n",
       "      <td>-0.618060</td>\n",
       "      <td>0</td>\n",
       "      <td>1</td>\n",
       "      <td>0</td>\n",
       "      <td>1</td>\n",
       "      <td>1</td>\n",
       "      <td>0</td>\n",
       "      <td>0</td>\n",
       "      <td>0</td>\n",
       "      <td>0</td>\n",
       "      <td>0</td>\n",
       "      <td>0</td>\n",
       "      <td>1</td>\n",
       "    </tr>\n",
       "    <tr>\n",
       "      <th>2</th>\n",
       "      <td>0.606234</td>\n",
       "      <td>1.359551</td>\n",
       "      <td>-0.874627</td>\n",
       "      <td>0</td>\n",
       "      <td>1</td>\n",
       "      <td>0</td>\n",
       "      <td>1</td>\n",
       "      <td>0</td>\n",
       "      <td>0</td>\n",
       "      <td>1</td>\n",
       "      <td>0</td>\n",
       "      <td>0</td>\n",
       "      <td>0</td>\n",
       "      <td>0</td>\n",
       "      <td>1</td>\n",
       "    </tr>\n",
       "    <tr>\n",
       "      <th>3</th>\n",
       "      <td>-0.431327</td>\n",
       "      <td>-0.035230</td>\n",
       "      <td>-0.156238</td>\n",
       "      <td>0</td>\n",
       "      <td>1</td>\n",
       "      <td>1</td>\n",
       "      <td>0</td>\n",
       "      <td>0</td>\n",
       "      <td>0</td>\n",
       "      <td>0</td>\n",
       "      <td>1</td>\n",
       "      <td>0</td>\n",
       "      <td>0</td>\n",
       "      <td>1</td>\n",
       "      <td>0</td>\n",
       "    </tr>\n",
       "    <tr>\n",
       "      <th>4</th>\n",
       "      <td>0.220165</td>\n",
       "      <td>0.313465</td>\n",
       "      <td>-1.182508</td>\n",
       "      <td>0</td>\n",
       "      <td>1</td>\n",
       "      <td>1</td>\n",
       "      <td>0</td>\n",
       "      <td>0</td>\n",
       "      <td>0</td>\n",
       "      <td>0</td>\n",
       "      <td>1</td>\n",
       "      <td>0</td>\n",
       "      <td>1</td>\n",
       "      <td>0</td>\n",
       "      <td>0</td>\n",
       "    </tr>\n",
       "    <tr>\n",
       "      <th>...</th>\n",
       "      <td>...</td>\n",
       "      <td>...</td>\n",
       "      <td>...</td>\n",
       "      <td>...</td>\n",
       "      <td>...</td>\n",
       "      <td>...</td>\n",
       "      <td>...</td>\n",
       "      <td>...</td>\n",
       "      <td>...</td>\n",
       "      <td>...</td>\n",
       "      <td>...</td>\n",
       "      <td>...</td>\n",
       "      <td>...</td>\n",
       "      <td>...</td>\n",
       "      <td>...</td>\n",
       "    </tr>\n",
       "    <tr>\n",
       "      <th>196</th>\n",
       "      <td>0.340812</td>\n",
       "      <td>0.286643</td>\n",
       "      <td>-0.361492</td>\n",
       "      <td>0</td>\n",
       "      <td>1</td>\n",
       "      <td>1</td>\n",
       "      <td>0</td>\n",
       "      <td>0</td>\n",
       "      <td>0</td>\n",
       "      <td>0</td>\n",
       "      <td>1</td>\n",
       "      <td>0</td>\n",
       "      <td>0</td>\n",
       "      <td>0</td>\n",
       "      <td>1</td>\n",
       "    </tr>\n",
       "    <tr>\n",
       "      <th>197</th>\n",
       "      <td>0.340812</td>\n",
       "      <td>1.520487</td>\n",
       "      <td>-0.925941</td>\n",
       "      <td>0</td>\n",
       "      <td>1</td>\n",
       "      <td>1</td>\n",
       "      <td>0</td>\n",
       "      <td>0</td>\n",
       "      <td>0</td>\n",
       "      <td>0</td>\n",
       "      <td>1</td>\n",
       "      <td>0</td>\n",
       "      <td>0</td>\n",
       "      <td>0</td>\n",
       "      <td>1</td>\n",
       "    </tr>\n",
       "    <tr>\n",
       "      <th>198</th>\n",
       "      <td>1.112950</td>\n",
       "      <td>0.823097</td>\n",
       "      <td>-1.131195</td>\n",
       "      <td>0</td>\n",
       "      <td>1</td>\n",
       "      <td>1</td>\n",
       "      <td>0</td>\n",
       "      <td>0</td>\n",
       "      <td>0</td>\n",
       "      <td>0</td>\n",
       "      <td>1</td>\n",
       "      <td>0</td>\n",
       "      <td>0</td>\n",
       "      <td>0</td>\n",
       "      <td>1</td>\n",
       "    </tr>\n",
       "    <tr>\n",
       "      <th>199</th>\n",
       "      <td>0.437329</td>\n",
       "      <td>0.072061</td>\n",
       "      <td>-0.104925</td>\n",
       "      <td>1</td>\n",
       "      <td>0</td>\n",
       "      <td>1</td>\n",
       "      <td>0</td>\n",
       "      <td>0</td>\n",
       "      <td>0</td>\n",
       "      <td>0</td>\n",
       "      <td>1</td>\n",
       "      <td>0</td>\n",
       "      <td>0</td>\n",
       "      <td>0</td>\n",
       "      <td>1</td>\n",
       "    </tr>\n",
       "    <tr>\n",
       "      <th>200</th>\n",
       "      <td>0.340812</td>\n",
       "      <td>0.286643</td>\n",
       "      <td>-0.925941</td>\n",
       "      <td>0</td>\n",
       "      <td>1</td>\n",
       "      <td>1</td>\n",
       "      <td>0</td>\n",
       "      <td>0</td>\n",
       "      <td>0</td>\n",
       "      <td>0</td>\n",
       "      <td>1</td>\n",
       "      <td>0</td>\n",
       "      <td>0</td>\n",
       "      <td>0</td>\n",
       "      <td>1</td>\n",
       "    </tr>\n",
       "  </tbody>\n",
       "</table>\n",
       "<p>201 rows × 15 columns</p>\n",
       "</div>"
      ],
      "text/plain": [
       "     engine-size  horsepower   avg-mpg  fuel-type_diesel  fuel-type_gas  \\\n",
       "0       0.075389    0.206174 -0.618060                 0              1   \n",
       "1       0.075389    0.206174 -0.618060                 0              1   \n",
       "2       0.606234    1.359551 -0.874627                 0              1   \n",
       "3      -0.431327   -0.035230 -0.156238                 0              1   \n",
       "4       0.220165    0.313465 -1.182508                 0              1   \n",
       "..           ...         ...       ...               ...            ...   \n",
       "196     0.340812    0.286643 -0.361492                 0              1   \n",
       "197     0.340812    1.520487 -0.925941                 0              1   \n",
       "198     1.112950    0.823097 -1.131195                 0              1   \n",
       "199     0.437329    0.072061 -0.104925                 1              0   \n",
       "200     0.340812    0.286643 -0.925941                 0              1   \n",
       "\n",
       "     num-of-doors_four  num-of-doors_two  body-style_convertible  \\\n",
       "0                    0                 1                       1   \n",
       "1                    0                 1                       1   \n",
       "2                    0                 1                       0   \n",
       "3                    1                 0                       0   \n",
       "4                    1                 0                       0   \n",
       "..                 ...               ...                     ...   \n",
       "196                  1                 0                       0   \n",
       "197                  1                 0                       0   \n",
       "198                  1                 0                       0   \n",
       "199                  1                 0                       0   \n",
       "200                  1                 0                       0   \n",
       "\n",
       "     body-style_hardtop  body-style_hatchback  body-style_sedan  \\\n",
       "0                     0                     0                 0   \n",
       "1                     0                     0                 0   \n",
       "2                     0                     1                 0   \n",
       "3                     0                     0                 1   \n",
       "4                     0                     0                 1   \n",
       "..                  ...                   ...               ...   \n",
       "196                   0                     0                 1   \n",
       "197                   0                     0                 1   \n",
       "198                   0                     0                 1   \n",
       "199                   0                     0                 1   \n",
       "200                   0                     0                 1   \n",
       "\n",
       "     body-style_wagon  drive-wheels_4wd  drive-wheels_fwd  drive-wheels_rwd  \n",
       "0                   0                 0                 0                 1  \n",
       "1                   0                 0                 0                 1  \n",
       "2                   0                 0                 0                 1  \n",
       "3                   0                 0                 1                 0  \n",
       "4                   0                 1                 0                 0  \n",
       "..                ...               ...               ...               ...  \n",
       "196                 0                 0                 0                 1  \n",
       "197                 0                 0                 0                 1  \n",
       "198                 0                 0                 0                 1  \n",
       "199                 0                 0                 0                 1  \n",
       "200                 0                 0                 0                 1  \n",
       "\n",
       "[201 rows x 15 columns]"
      ]
     },
     "execution_count": 28,
     "metadata": {},
     "output_type": "execute_result"
    }
   ],
   "source": [
    "X"
   ]
  },
  {
   "cell_type": "code",
   "execution_count": 29,
   "metadata": {},
   "outputs": [],
   "source": [
    "X_train,X_test,y_train,y_test = train_test_split(X,y,test_size=0.2,random_state=3)"
   ]
  },
  {
   "cell_type": "code",
   "execution_count": 30,
   "metadata": {},
   "outputs": [
    {
     "data": {
      "text/plain": [
       "SGDRegressor(random_state=100)"
      ]
     },
     "execution_count": 30,
     "metadata": {},
     "output_type": "execute_result"
    }
   ],
   "source": [
    "model = SGDRegressor(random_state=100)\n",
    "model.fit(X_train,y_train)"
   ]
  },
  {
   "cell_type": "code",
   "execution_count": 31,
   "metadata": {},
   "outputs": [
    {
     "name": "stdout",
     "output_type": "stream",
     "text": [
      "Train Score 0.8245775491912977\n"
     ]
    }
   ],
   "source": [
    "print('Train Score',model.score(X_train,y_train))"
   ]
  },
  {
   "cell_type": "code",
   "execution_count": 32,
   "metadata": {},
   "outputs": [
    {
     "name": "stdout",
     "output_type": "stream",
     "text": [
      "R2 Score : 0.81\n"
     ]
    }
   ],
   "source": [
    "y_pred = model.predict(X_test)\n",
    "r2_score = r2_score(y_test,y_pred)\n",
    "print(f\"R2 Score : {r2_score:0.2f}\")"
   ]
  },
  {
   "cell_type": "markdown",
   "metadata": {},
   "source": [
    "# Regularization"
   ]
  },
  {
   "cell_type": "code",
   "execution_count": 34,
   "metadata": {},
   "outputs": [
    {
     "data": {
      "text/plain": [
       "LassoCV(alphas=[0.1, 0.5, 1.0], cv=5, normalize=True)"
      ]
     },
     "execution_count": 34,
     "metadata": {},
     "output_type": "execute_result"
    }
   ],
   "source": [
    "lm = LassoCV(alphas=[0.10,0.5,1.0], cv=5,normalize=True)\n",
    "lm.fit(X,y)"
   ]
  },
  {
   "cell_type": "code",
   "execution_count": 35,
   "metadata": {},
   "outputs": [
    {
     "name": "stdout",
     "output_type": "stream",
     "text": [
      "engine-size               3900.564482427424\n",
      "horsepower                1964.5521249043559\n",
      "avg-mpg                   -829.7467112530021\n",
      "fuel-type_diesel          2983.4923191730804\n",
      "fuel-type_gas             -1.3046165726728667e-11\n",
      "num-of-doors_four         369.0706111141392\n",
      "num-of-doors_two          -6.482911018111067e-14\n",
      "body-style_convertible    2820.661041766841\n",
      "body-style_hardtop        488.17940304909644\n",
      "body-style_hatchback      -1219.2033939895716\n",
      "body-style_sedan          0.0\n",
      "body-style_wagon          -1119.6918683354957\n",
      "drive-wheels_4wd          0.0\n",
      "drive-wheels_fwd          -710.1973389765753\n",
      "drive-wheels_rwd          1304.7250494253065\n"
     ]
    }
   ],
   "source": [
    "for t in zip(X_train.columns, lm.coef_):\n",
    "    print(f\"{t[0]:25s} {t[1]}\")"
   ]
  },
  {
   "cell_type": "code",
   "execution_count": 36,
   "metadata": {},
   "outputs": [
    {
     "data": {
      "text/plain": [
       "array([ 3.90056448e+03,  1.96455212e+03, -8.29746711e+02,  2.98349232e+03,\n",
       "       -1.30461657e-11,  3.69070611e+02, -6.48291102e-14,  2.82066104e+03,\n",
       "        4.88179403e+02, -1.21920339e+03,  0.00000000e+00, -1.11969187e+03,\n",
       "        0.00000000e+00, -7.10197339e+02,  1.30472505e+03])"
      ]
     },
     "execution_count": 36,
     "metadata": {},
     "output_type": "execute_result"
    }
   ],
   "source": [
    "lm.coef_"
   ]
  },
  {
   "cell_type": "code",
   "execution_count": 44,
   "metadata": {},
   "outputs": [
    {
     "name": "stdout",
     "output_type": "stream",
     "text": [
      "R2 Score: 0.86\n"
     ]
    }
   ],
   "source": [
    "y_pred = lm.predict(X_test)\n",
    "r2score = r2_score(y_test,y_pred)\n",
    "print(f\"R2 Score: {r2score:0.2f}\")"
   ]
  },
  {
   "cell_type": "code",
   "execution_count": null,
   "metadata": {},
   "outputs": [],
   "source": []
  }
 ],
 "metadata": {
  "kernelspec": {
   "display_name": "Python 3",
   "language": "python",
   "name": "python3"
  },
  "language_info": {
   "codemirror_mode": {
    "name": "ipython",
    "version": 3
   },
   "file_extension": ".py",
   "mimetype": "text/x-python",
   "name": "python",
   "nbconvert_exporter": "python",
   "pygments_lexer": "ipython3",
   "version": "3.8.5"
  }
 },
 "nbformat": 4,
 "nbformat_minor": 4
}
